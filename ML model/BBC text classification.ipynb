{
 "cells": [
  {
   "cell_type": "code",
   "execution_count": 1,
   "metadata": {},
   "outputs": [
    {
     "name": "stderr",
     "output_type": "stream",
     "text": [
      "Using TensorFlow backend.\n",
      "[nltk_data] Downloading package stopwords to\n",
      "[nltk_data]     C:\\Users\\lukky\\AppData\\Roaming\\nltk_data...\n",
      "[nltk_data]   Package stopwords is already up-to-date!\n"
     ]
    },
    {
     "data": {
      "text/plain": [
       "True"
      ]
     },
     "execution_count": 1,
     "metadata": {},
     "output_type": "execute_result"
    }
   ],
   "source": [
    "import numpy as np\n",
    "import pandas as pd\n",
    "import string\n",
    "import nltk\n",
    "from nltk.tokenize import TweetTokenizer\n",
    "from nltk.stem import SnowballStemmer\n",
    "from nltk.corpus import wordnet,stopwords\n",
    "from keras.models import Sequential\n",
    "from keras.layers import Dense, Activation\n",
    "from keras.models import model_from_json\n",
    "from sklearn.neural_network import MLPClassifier\n",
    "from sklearn.naive_bayes import MultinomialNB\n",
    "from sklearn import linear_model\n",
    "from sklearn.metrics import accuracy_score\n",
    "from sklearn.feature_extraction.text import TfidfVectorizer, CountVectorizer, TfidfTransformer\n",
    "import matplotlib.pyplot as plt\n",
    "from sklearn.model_selection import train_test_split\n",
    "import pickle\n",
    "\n",
    "nltk.download('stopwords')"
   ]
  },
  {
   "cell_type": "code",
   "execution_count": 2,
   "metadata": {},
   "outputs": [
    {
     "data": {
      "text/html": [
       "<div>\n",
       "<style scoped>\n",
       "    .dataframe tbody tr th:only-of-type {\n",
       "        vertical-align: middle;\n",
       "    }\n",
       "\n",
       "    .dataframe tbody tr th {\n",
       "        vertical-align: top;\n",
       "    }\n",
       "\n",
       "    .dataframe thead th {\n",
       "        text-align: right;\n",
       "    }\n",
       "</style>\n",
       "<table border=\"1\" class=\"dataframe\">\n",
       "  <thead>\n",
       "    <tr style=\"text-align: right;\">\n",
       "      <th></th>\n",
       "      <th>category</th>\n",
       "      <th>text</th>\n",
       "    </tr>\n",
       "  </thead>\n",
       "  <tbody>\n",
       "    <tr>\n",
       "      <th>0</th>\n",
       "      <td>tech</td>\n",
       "      <td>tv future in the hands of viewers with home th...</td>\n",
       "    </tr>\n",
       "    <tr>\n",
       "      <th>1</th>\n",
       "      <td>business</td>\n",
       "      <td>worldcom boss  left books alone  former worldc...</td>\n",
       "    </tr>\n",
       "    <tr>\n",
       "      <th>2</th>\n",
       "      <td>sport</td>\n",
       "      <td>tigers wary of farrell  gamble  leicester say ...</td>\n",
       "    </tr>\n",
       "    <tr>\n",
       "      <th>3</th>\n",
       "      <td>sport</td>\n",
       "      <td>yeading face newcastle in fa cup premiership s...</td>\n",
       "    </tr>\n",
       "    <tr>\n",
       "      <th>4</th>\n",
       "      <td>entertainment</td>\n",
       "      <td>ocean s twelve raids box office ocean s twelve...</td>\n",
       "    </tr>\n",
       "    <tr>\n",
       "      <th>5</th>\n",
       "      <td>politics</td>\n",
       "      <td>howard hits back at mongrel jibe michael howar...</td>\n",
       "    </tr>\n",
       "    <tr>\n",
       "      <th>6</th>\n",
       "      <td>politics</td>\n",
       "      <td>blair prepares to name poll date tony blair is...</td>\n",
       "    </tr>\n",
       "    <tr>\n",
       "      <th>7</th>\n",
       "      <td>sport</td>\n",
       "      <td>henman hopes ended in dubai third seed tim hen...</td>\n",
       "    </tr>\n",
       "    <tr>\n",
       "      <th>8</th>\n",
       "      <td>sport</td>\n",
       "      <td>wilkinson fit to face edinburgh england captai...</td>\n",
       "    </tr>\n",
       "    <tr>\n",
       "      <th>9</th>\n",
       "      <td>entertainment</td>\n",
       "      <td>last star wars  not for children  the sixth an...</td>\n",
       "    </tr>\n",
       "  </tbody>\n",
       "</table>\n",
       "</div>"
      ],
      "text/plain": [
       "        category                                               text\n",
       "0           tech  tv future in the hands of viewers with home th...\n",
       "1       business  worldcom boss  left books alone  former worldc...\n",
       "2          sport  tigers wary of farrell  gamble  leicester say ...\n",
       "3          sport  yeading face newcastle in fa cup premiership s...\n",
       "4  entertainment  ocean s twelve raids box office ocean s twelve...\n",
       "5       politics  howard hits back at mongrel jibe michael howar...\n",
       "6       politics  blair prepares to name poll date tony blair is...\n",
       "7          sport  henman hopes ended in dubai third seed tim hen...\n",
       "8          sport  wilkinson fit to face edinburgh england captai...\n",
       "9  entertainment  last star wars  not for children  the sixth an..."
      ]
     },
     "execution_count": 2,
     "metadata": {},
     "output_type": "execute_result"
    }
   ],
   "source": [
    "data = pd.read_csv(\"bbc-text.csv\")\n",
    "data.head(10)"
   ]
  },
  {
   "cell_type": "code",
   "execution_count": 3,
   "metadata": {},
   "outputs": [
    {
     "data": {
      "text/plain": [
       "<function matplotlib.pyplot.show(*args, **kw)>"
      ]
     },
     "execution_count": 3,
     "metadata": {},
     "output_type": "execute_result"
    },
    {
     "data": {
      "image/png": "[encoded data removed]",
      "text/plain": [
       "<Figure size 720x360 with 1 Axes>"
      ]
     },
     "metadata": {
      "needs_background": "light"
     },
     "output_type": "display_data"
    }
   ],
   "source": [
    "fig = plt.figure(figsize=(10,5))\n",
    "data.groupby('category').text.count().plot.bar(ylim=0)\n",
    "plt.show"
   ]
  },
  {
   "cell_type": "code",
   "execution_count": 4,
   "metadata": {},
   "outputs": [
    {
     "name": "stdout",
     "output_type": "stream",
     "text": [
      "[4, 0, 3, 3, 1, 2, 2, 3, 3, 1]\n",
      "0    tv future in the hands of viewers with home th...\n",
      "1    worldcom boss  left books alone  former worldc...\n",
      "2    tigers wary of farrell  gamble  leicester say ...\n",
      "3    yeading face newcastle in fa cup premiership s...\n",
      "4    ocean s twelve raids box office ocean s twelve...\n",
      "5    howard hits back at mongrel jibe michael howar...\n",
      "6    blair prepares to name poll date tony blair is...\n",
      "7    henman hopes ended in dubai third seed tim hen...\n",
      "8    wilkinson fit to face edinburgh england captai...\n",
      "9    last star wars  not for children  the sixth an...\n",
      "Name: text, dtype: object\n"
     ]
    }
   ],
   "source": [
    "label_dict={'business':0,'entertainment':1, 'politics':2, 'sport':3, 'tech':4}\n",
    "inv_label_dict={0:'business',1:'entertainment', 2:'politics', 3:'sport', 4:'tech'}\n",
    "label = []\n",
    "\n",
    "for x in data['category']:\n",
    "    label.append(label_dict[x])\n",
    "    \n",
    "print(label[:10])\n",
    "\n",
    "text = data['text']\n",
    "print(text[:10])"
   ]
  },
  {
   "cell_type": "code",
   "execution_count": 5,
   "metadata": {},
   "outputs": [],
   "source": [
    "def RemovePunctuation(sentence):\n",
    "    return sentence.translate(str.maketrans(\"\",\"\", string.punctuation))\n",
    "\n",
    "def stemming(sentence):\n",
    "    tknzr = TweetTokenizer()\n",
    "    line = tknzr.tokenize(sentence)\n",
    "    stemmer = SnowballStemmer(language='english')\n",
    "    s=\"\"\n",
    "    for i in range(len(line)):\n",
    "        s =  s + \" \" + stemmer.stem(line[i])\n",
    "    #print(np.asarray(s).reshape((1,1)))\n",
    "    return s\n",
    "\n",
    "def get_wordnet_pos(word):\n",
    "    \"\"\"Map POS tag to first character lemmatize() accepts\"\"\"\n",
    "    tag = nltk.pos_tag([word])[0][1][0].upper()\n",
    "    tag_dict = {\"J\": wordnet.ADJ,\n",
    "                \"N\": wordnet.NOUN,\n",
    "                \"V\": wordnet.VERB,\n",
    "                \"R\": wordnet.ADV}\n",
    "\n",
    "    return tag_dict.get(tag, wordnet.NOUN)\n",
    "\n",
    "def lemmatizing(sentence):\n",
    "    tknzr = TweetTokenizer()\n",
    "    line = tknzr.tokenize(sentence)\n",
    "    lemmatizer = WordNetLemmatizer()\n",
    "    s=\"\"\n",
    "    for l in line:\n",
    "        s+= \" \"+ lemmatizer.lemmatize(l, get_wordnet_pos(l))\n",
    "    #lemmatizer.lemmatize(w, get_wordnet_pos(w)) for w in nltk.word_tokenize(sentence)\n",
    "    return s\n",
    "\n",
    "def RemoveStopWords(sentence):\n",
    "    stop_words = set(stopwords.words('english'))\n",
    "    tknzr = TweetTokenizer()\n",
    "    line = tknzr.tokenize(sentence)\n",
    "    s=\"\"\n",
    "    for l in line:\n",
    "        if l not in stop_words: \n",
    "            s+= \" \"+ l\n",
    "    return s"
   ]
  },
  {
   "cell_type": "code",
   "execution_count": 6,
   "metadata": {},
   "outputs": [
    {
     "name": "stdout",
     "output_type": "stream",
     "text": [
      " tv futur hand viewer home theatr system plasma highdefinit tvs digit video record move live room way peopl watch tv radic differ five year time accord expert panel gather annual consum electron show las vega discuss new technolog impact one favourit pastim us lead trend programm content deliv viewer via home network cabl satellit telecom compani broadband servic provid front room portabl devic one talkedabout technolog ces digit person video record dvr pvr settop box like us tivo uk sky system allow peopl record store play paus forward wind tv programm want essenti technolog allow much personalis tv also builtin highdefinit tv set big busi japan us slower take europ lack highdefinit program peopl forward wind advert also forget abid network channel schedul put togeth alacart entertain us network cabl satellit compani worri mean term advertis revenu well brand ident viewer loyalti channel although us lead technolog moment also concern rais europ particular grow uptak servic like sky happen today see nine month year time uk adam hume bbc broadcast futurologist told bbc news websit like bbc issu lost advertis revenu yet press issu moment commerci uk broadcast brand loyalti import everyon talk content brand rather network brand said tim hanlon brand communic firm starcom mediavest realiti broadband connect anybodi produc content ad challeng hard promot programm much choic mean said stacey jolna senior vice presid tv guid tv group way peopl find content want watch simplifi tv viewer mean network us term channel could take leaf googl book search engin futur instead schedul help peopl find want watch kind channel model might work younger ipod generat use take control gadget play might suit everyon panel recognis older generat comfort familiar schedul channel brand know get perhap want much choic put hand mr hanlon suggest end kid diaper push button alreadi everyth possibl avail said mr hanlon ultim consum tell market want 50 000 new gadget technolog showcas ces mani enhanc tvwatch experi highdefinit tv set everywher mani new model lcd liquid crystal display tvs launch dvr capabl built instead extern box one exampl launch show humax 26inch lcd tv 80hour tivo dvr dvd record one us biggest satellit tv compani directtv even launch brand dvr show 100hour record capabl instant replay search function set paus rewind tv 90 hour microsoft chief bill gate announc preshow keynot speech partnership tivo call tivotogo mean peopl play record programm window pcs mobil devic reflect increas trend free multimedia peopl watch want want\n",
      " worldcom boss left book alon former worldcom boss berni ebber accus overse 11bn £ 58bn fraud never made account decis wit told juror david myer made comment question defenc lawyer argu mr ebber respons worldcom problem phone compani collaps 2002 prosecutor claim loss hidden protect firm share mr myer alreadi plead guilti fraud assist prosecutor monday defenc lawyer reid weingarten tri distanc client alleg cross examin ask mr myer ever knew mr ebber make account decis awar mr myer repli ever know mr ebber make account entri worldcom book mr weingarten press repli wit mr myer admit order fals account entri request former worldcom chief financi offic scott sullivan defenc lawyer tri paint mr sullivan admit fraud testifi later trial mastermind behind worldcom account hous card mr ebber team meanwhil look portray affabl boss admiss pe graduat economist whatev abil mr ebber transform worldcom relat unknown 160bn telecom giant investor darl late 1990s worldcom problem mount howev competit increas telecom boom peter firm final collaps sharehold lost 180bn 20 000 worker lost job mr ebber trial expect last two month found guilti former ceo face substanti jail sentenc firm declar innoc\n",
      " tiger wari farrel gambl leicest say rush make bid andi farrel great britain rugbi leagu captain decid switch code anybodi els involv process still way away go next stage tiger boss john well told bbc radio leicest moment still lot unknown andi farrel least medic situat whoever take go take big big gambl farrel persist knee problem oper knee five week ago expect anoth three month leicest saracen believ head list rugbi union club interest sign farrel decid move 15man game move across union well believ would better play back least initi sure could make step leagu union involv centr said well think england would prefer progress posit back row make use rugbi leagu skill within forward juri whether cross divid club balanc struck cost gambl option bring readymad replac\n",
      " yead face newcastl fa cup premiership side newcastl unit face trip ryman premier leagu leader yead fa cup third round game arguabl highlight draw potenti moneyspinn nonleagu yead beat slough second round confer side exet citi knock doncast saturday travel old trafford meet holder manchest unit januari arsenal drawn home stoke chelsea play host scunthorp nonleagu side draw hinckley unit held brentford goalless draw sunday meet leagu one leader luton win replay martin allen team griffin park number premiership team face difficult away game championship side weekend 89 januari thirdplac everton visit plymouth liverpool travel burnley crystal palac go sunderland fulham face carl cup semifinalist watford bolton meet ipswich aston villa drawn sheffield unit premiership struggler norwich blackburn west brom away west ham cardiff preston north end respect southampton visit northampton alreadi beaten leagu two side carl cup earlier season middlesbrough drawn away either swindon nott counti spur entertain brighton white hart lane arsenal v stoke swindonnott co v middlesbrough man utd v exet plymouth v everton leicest v blackpool derbi v wigan sunderland v crystal palac wolv v millwal yead v newcastl hull v colchest tottenham v brighton read v stockportswansea birmingham v leed hartlepool v boston milton keyn don v peterborough oldham v man citi chelsea v scunthorp cardiff v blackburn charlton v rochdal west ham v norwich sheff utd v aston villa preston v west brom rotherham v yeovil burnley v liverpool bournemouth v chester coventri v crew watford v fulham ipswich v bolton portsmouth v gillingham northampton v southampton qpr v nottm forest luton v hinckleybrentford match play weekend 89 januari\n",
      " ocean twelv raid box offic ocean twelv crime caper sequel star georg clooney brad pitt julia robert gone straight number one us box offic chart took 408m £ 21m weekend ticket sale accord studio estim sequel follow master crimin tri pull three major heist across europ knock last week number one nation treasur third place wesley snipe blade triniti second take 161m £ 84m round top five anim fabl polar express star tom hank festiv comedi christma krank ocean twelv box offic triumph mark fourthbiggest open decemb releas us three film lord ring trilog sequel narrowli beat 2001 predecessor ocean eleven took 381m £ 198m open weekend 184m £ 958m total remak 1960s film star frank sinatra rat pack ocean eleven direct oscarwin director steven soderbergh soderbergh return direct hit sequel reunit clooney pitt robert matt damon andi garcia elliott gould catherin zetajon join allstar cast fun good holiday movi said dan fellman presid distribut warner bros howev us critic less complimentari 110m £ 572m project los angel time label dispirit vaniti project milder review new york time dub sequel unabash trivial\n",
      " howard hit back mongrel jibe michael howard said claim peter hain tori leader act like attack mongrel show labour rattl opposit upbeat speech parti spring confer brighton said labour campaign tactic prove tori hit home mr hain made claim tori tactic antiterror bill debat someth tell someon somewher littl bit rattl mr howard said mr hain leader common told bbc radio four today programm mr howard stanc govern antiterror legisl put countri risk accus tori leader behav like attack mongrel play opposit opposit sake mr howard told parti labour would anyth say anyth claim anyth cling offic cost far year compar fagin shylock fli pig morn peter hain even call mongrel know someth tell someon somewher littl bit rattl environ secretari margaret beckett reject mr howard comment tell radio 4 pm programm labour rattl real duti tri get peopl focus michael howard record propos tri put forward countri also mani exampl see believ realli poor judgement behalf mr howard said tori polici school tax immigr crime strike chord voter sinc begin year elect year make polit weather told parti confer mr howard deni play polit rais case margaret dixon whose oper cancel seven time grab headlin parti two week ago hit back labour claim use mrs dixon human shield human shield mr blair human mr howard said parti plan immigr quota also focus much media coverag racist common sens pledg cleaner hospit better school disciplin promis get rid polit correct nation curriculum give everyon chanc decent state educ come ordinari famili teenag michael howard appli cambridg today gordon brown would love stress parti commit cut tax red tape increas basic state pension line earn finish person appeal parti activist go win next elect one day abl tell children grandchildren tell mine bit play part help win famous elect elect transform countri better labour elect coordin alan milburn said michael howard speech today confirm alway said strategi opportun forward vision countri refer appear mr howard famili confer stage mr milburn said michael howard perfect entitl pose famili today hard work famili across britain damag plan cut £ 35bn public spend\n",
      " blair prepar name poll date toni blair like name 5 may elect day parliament return easter break bbc polit editor learn andrew marr say mr blair ask queen 4 5 april dissolv parliament end week mr blair far resist call name day parti step campaign recent down street would drawn claim say elect time matter prime minist number 10 spokeswoman would say announc elect want announc elect move signal frantic week westminst govern like tri get key legisl parliament govern need financ bill cover budget plan pass common close busi end session 7 april also seek push serious organis crime bill id card bill mr marr said wednesday today programm almost nobodi senior level insid govern parliament expect elect call 4 5 april soon common back short easter recess toni blair whip palac ask queen dissolv parliament go labour govern offici june 2006 hold general elect recent year govern favour fouryear term\n",
      " henman hope end dubai third seed tim henman slump straight set defeat raininterrupt dubai open quarterfin ivan ljubic croatian eighth seed book place last four 75 64 victori british number one henman look cours level match go 20 second set progress halt rain interven ljubic hit back break seal fourth straight win henman earlier day spanish fifth seed tommi robredo secur semifin place beat nicola kiefer germani 64 64 afterward henman left curs weather umpir seven break rain match incred frustrat henman said rain umpir take control kept tell us play till end game rain come score irrelev frustrat happi form expect desert\n",
      " wilkinson fit face edinburgh england captain jonni wilkinson make longawait return injuri edinburgh saturday wilkinson play sinc injur bicep 17 octob took part fullcontact train newcastl falcon wednesday 25yearold flyhalf start saturday heineken cup match murrayfield bench newcastl director rugbi rob andrew said fine hope get game stage 25yearold miss england autumn intern aggrav haematoma upper right arm saracen subsequ replac england captain fullback jason robinson sale charli hodgson took number 10 shirt intern canada south africa australia wilkinson year disrupt injuri muscl problem follow eight month sidelin shoulder injuri sustain world cup final\n",
      " last star war children sixth final star war movi may suitabl young children filmmak georg luca said told us tv show 60 minut reveng sith would darkest violent seri think would take five sixyearold told cbs programm air sunday luca predict film would get us rate advis parent scene may unsuit 13s open uk us 19 may said expect film would classifi pg13 rough equival british 12a rate five previous star war film carri less restrict pg parent guidanc rate us uk pass u suitabl except attack clone got pg rate 2002 reveng sith third prequel origin 1977 star war film chronicl transform heroic anakin skywalk evil darth vader travel helllik planet compos erupt volcano molten lava go watch make pact devil luca said film much dark emot much tragedi\n"
     ]
    }
   ],
   "source": [
    "stemmed_text=[]\n",
    "for i in range(len(text)):\n",
    "    s = RemovePunctuation(text[i])\n",
    "    s = RemoveStopWords(s)\n",
    "    s = stemming(s)\n",
    "    stemmed_text.append( s )\n",
    "    \n",
    "for i in range(10):\n",
    "    print(stemmed_text[i])"
   ]
  },
  {
   "cell_type": "code",
   "execution_count": 7,
   "metadata": {},
   "outputs": [
    {
     "name": "stdout",
     "output_type": "stream",
     "text": [
      "TfidfVectorizer(analyzer='word', binary=False, decode_error='strict',\n",
      "        dtype=<class 'numpy.float64'>, encoding='latin-1', input='content',\n",
      "        lowercase=True, max_df=1.0, max_features=5000, min_df=5,\n",
      "        ngram_range=(1, 2), norm='l2', preprocessor=None, smooth_idf=True,\n",
      "        stop_words='english', strip_accents=None, sublinear_tf=True,\n",
      "        token_pattern='(?u)\\\\b\\\\w\\\\w+\\\\b', tokenizer=None, use_idf=True,\n",
      "        vocabulary=None)\n",
      "(2225, 5000)\n",
      "<class 'numpy.ndarray'>\n"
     ]
    }
   ],
   "source": [
    "max_ftr = 5000\n",
    "tfidf_vector= TfidfVectorizer(sublinear_tf=True,     #to use a logarithmic form for frequency\n",
    "                        min_df=5,              #minimum numbers of documents a word must be present in to be kept\n",
    "                        norm='l2',             #to ensure all our feature vectors have a euclidian norm of 1\n",
    "                        encoding='latin-1',  \n",
    "                        ngram_range=(1, 2),    #to indicate that we want to consider both unigrams and bigrams\n",
    "                        stop_words='english',  # to remove all common pronouns\n",
    "                        max_features=max_ftr\n",
    "                             )\n",
    "tfidf_ = tfidf_vector.fit(stemmed_text)\n",
    "print(tfidf_)\n",
    "x_tfidf = tfidf_vector.transform(stemmed_text).toarray()\n",
    "\n",
    "print( x_tfidf.shape )\n",
    "print( type(x_tfidf) )"
   ]
  },
  {
   "cell_type": "code",
   "execution_count": 8,
   "metadata": {},
   "outputs": [
    {
     "name": "stdout",
     "output_type": "stream",
     "text": [
      "[2 3 4 0 2]\n",
      "(1490, 5000)\n",
      "(1490,)\n"
     ]
    }
   ],
   "source": [
    "X = np.array(x_tfidf)\n",
    "Y = np.array(label)\n",
    "X_train, X_test, Y_train, Y_test = train_test_split(X, Y, test_size=0.33, random_state=42)\n",
    "print(Y_train[:5])\n",
    "print(X_train.shape)\n",
    "print(Y_train.shape)"
   ]
  },
  {
   "cell_type": "code",
   "execution_count": null,
   "metadata": {},
   "outputs": [],
   "source": [
    "clf_NB = MultinomialNB()\n",
    "clf_NB.fit(X_train,Y_train)\n",
    "\n",
    "y_pred = clf_NB.predict( X_train )\n",
    "print(\"Train Accuracy with TfidfVectorizer with NaiveBayes Classifier: \",accuracy_score(y_true=Y_train, y_pred=y_pred))\n",
    "y_pred = clf_NB.predict( X_test )\n",
    "print(\"Test Accuracy with TfidfVectorizer with NaiveBayes Classifier: \",accuracy_score(y_true=Y_test, y_pred=y_pred))"
   ]
  },
  {
   "cell_type": "code",
   "execution_count": null,
   "metadata": {},
   "outputs": [],
   "source": [
    "clf_SGD = linear_model.SGDClassifier(max_iter=5,alpha=1e-5,penalty ='l2',tol=1e-3)\n",
    "clf_SGD.fit(X_train,Y_train)\n",
    "\n",
    "y_pred = clf_SGD.predict( X_train )\n",
    "print(\"Train Accuracy with TfidfVectorizer with SGD Classifier: \",accuracy_score(y_true=Y_train, y_pred=y_pred))\n",
    "y_pred = clf_SGD.predict( X_test )\n",
    "print(\"Test Accuracy with TfidfVectorizer with SGD Classifier: \",accuracy_score(y_true=Y_test, y_pred=y_pred))"
   ]
  },
  {
   "cell_type": "code",
   "execution_count": null,
   "metadata": {},
   "outputs": [],
   "source": [
    "clf_NN = MLPClassifier(solver='lbfgs', alpha=1e-5, hidden_layer_sizes=(25, 10,5), random_state=1)\n",
    "clf_NN.fit(X_train,Y_train)\n",
    "\n",
    "y_pred = clf_NN.predict( X_train )\n",
    "print(\"Train Accuracy with TfidfVectorizer with NN Classifier: \",accuracy_score(y_true=Y_train, y_pred=y_pred))\n",
    "y_pred = clf_NN.predict( X_test )\n",
    "print(\"Test Accuracy with TfidfVectorizer with NN Classifier: \",accuracy_score(y_true=Y_test, y_pred=y_pred))"
   ]
  },
  {
   "cell_type": "code",
   "execution_count": null,
   "metadata": {},
   "outputs": [],
   "source": [
    "clf_NN=[None]*20\n",
    "for i in range(1,19):\n",
    "    print(i)\n",
    "    clf_NN[i] = MLPClassifier(solver='lbfgs', alpha=1e-5, hidden_layer_sizes=(25, i,5), random_state=1)\n",
    "    clf_NN[i].fit(X_train,Y_train)\n",
    "    y_pred = clf_NN[i].predict( X_train )\n",
    "    print(y_pred[:30])\n",
    "    print(Y_train[:30])\n",
    "    print(\"Train Accuracy with TfidfVectorizer with NN Classifier: \",accuracy_score(y_true=Y_train, y_pred=y_pred))\n",
    "    y_pred = clf_NN[i].predict( X_test )\n",
    "    print(y_pred[:30])\n",
    "    print(Y_test[:30])\n",
    "    print(\"Test Accuracy with TfidfVectorizer with NN Classifier: \",accuracy_score(y_true=Y_test, y_pred=y_pred))"
   ]
  },
  {
   "cell_type": "code",
   "execution_count": 9,
   "metadata": {},
   "outputs": [
    {
     "name": "stdout",
     "output_type": "stream",
     "text": [
      "[[0. 0. 1. 0. 0.]\n",
      " [0. 0. 0. 1. 0.]\n",
      " [0. 0. 0. 0. 1.]\n",
      " [1. 0. 0. 0. 0.]\n",
      " [0. 0. 1. 0. 0.]]\n",
      "(1490, 5000)\n",
      "(1490, 5)\n"
     ]
    }
   ],
   "source": [
    "#Changing labels from numbers to array\n",
    "#Ex: 1-> 0,1,0,0,0,0\n",
    "#Ex: 5-> 0,0,0,0,0,1\n",
    "newLabel = np.zeros((len(label),5))\n",
    "for idx, val in enumerate(label):\n",
    "    newLabel[idx][val] = 1\n",
    "\n",
    "Y = np.asarray(newLabel)\n",
    "X_train, X_test, Y_train, Y_test = train_test_split(X, Y, test_size=0.33, random_state=42)\n",
    "print(Y_train[:5])\n",
    "print(X_train.shape)\n",
    "print(Y_train.shape)"
   ]
  },
  {
   "cell_type": "code",
   "execution_count": 10,
   "metadata": {},
   "outputs": [],
   "source": [
    "model = Sequential()\n",
    "model.add(Dense(512, input_shape=(max_ftr,),activation='relu'))\n",
    "model.add(Dense(5,activation='softmax'))\n",
    "\n",
    "model.compile(loss='categorical_crossentropy', optimizer='adam', metrics=['accuracy'])"
   ]
  },
  {
   "cell_type": "code",
   "execution_count": 11,
   "metadata": {},
   "outputs": [
    {
     "name": "stdout",
     "output_type": "stream",
     "text": [
      "Train on 1341 samples, validate on 149 samples\n",
      "Epoch 1/5\n",
      "1341/1341 [==============================] - 3s 2ms/step - loss: 1.3870 - acc: 0.7763 - val_loss: 0.9745 - val_acc: 0.9530\n",
      "Epoch 2/5\n",
      "1341/1341 [==============================] - 1s 756us/step - loss: 0.6529 - acc: 0.9814 - val_loss: 0.3903 - val_acc: 0.9933\n",
      "Epoch 3/5\n",
      "1341/1341 [==============================] - 1s 747us/step - loss: 0.2310 - acc: 0.9948 - val_loss: 0.1756 - val_acc: 0.9933\n",
      "Epoch 4/5\n",
      "1341/1341 [==============================] - 1s 765us/step - loss: 0.0911 - acc: 0.9970 - val_loss: 0.1086 - val_acc: 0.9933\n",
      "Epoch 5/5\n",
      "1341/1341 [==============================] - 1s 770us/step - loss: 0.0462 - acc: 0.9993 - val_loss: 0.0880 - val_acc: 0.9866\n"
     ]
    },
    {
     "data": {
      "text/plain": [
       "<keras.callbacks.History at 0x1652a2c4d68>"
      ]
     },
     "execution_count": 11,
     "metadata": {},
     "output_type": "execute_result"
    }
   ],
   "source": [
    "model.fit(X_train, Y_train, batch_size=100, epochs=5, verbose=1, validation_split=0.1)"
   ]
  },
  {
   "cell_type": "code",
   "execution_count": 12,
   "metadata": {},
   "outputs": [
    {
     "name": "stdout",
     "output_type": "stream",
     "text": [
      "735/735 [==============================] - 0s 136us/step\n",
      "Test loss: 0.11584942275975026\n",
      "Test accuracy: 0.9795918387620628\n"
     ]
    }
   ],
   "source": [
    "score = model.evaluate(X_test, Y_test, batch_size=100, verbose=1)\n",
    "print('Test loss:', score[0])\n",
    "print('Test accuracy:', score[1])"
   ]
  },
  {
   "cell_type": "code",
   "execution_count": 13,
   "metadata": {},
   "outputs": [
    {
     "name": "stdout",
     "output_type": "stream",
     "text": [
      "2\n",
      "2\n"
     ]
    }
   ],
   "source": [
    "pred = model.predict(np.array([X_test[0]]))\n",
    "print(np.argmax(pred))\n",
    "print(np.argmax(Y_test[0]))"
   ]
  },
  {
   "cell_type": "code",
   "execution_count": null,
   "metadata": {},
   "outputs": [],
   "source": [
    "txt = input()\n",
    "txt = RemovePunctuation(RemoveStopWords(stemming(txt)))\n",
    "txt = [txt]\n",
    "txt = tfidf_vector.transform(txt).toarray()\n",
    "print(txt.shape)"
   ]
  },
  {
   "cell_type": "code",
   "execution_count": null,
   "metadata": {
    "scrolled": true
   },
   "outputs": [],
   "source": [
    "pred = model.predict(txt)\n",
    "print( inv_label_dict[np.argmax(pred)] )"
   ]
  },
  {
   "cell_type": "code",
   "execution_count": 15,
   "metadata": {},
   "outputs": [
    {
     "name": "stdout",
     "output_type": "stream",
     "text": [
      "Saved model to disk\n"
     ]
    }
   ],
   "source": [
    "# serialize model to JSON\n",
    "model_json = model.to_json()\n",
    "with open(\"model.json\", \"w\") as json_file:\n",
    "    json_file.write(model_json)\n",
    "# serialize weights to HDF5\n",
    "model.save_weights(\"model.h5\")\n",
    "model.save(\"Whole_model.h5\")\n",
    "print(\"Saved model to disk\")"
   ]
  },
  {
   "cell_type": "code",
   "execution_count": null,
   "metadata": {},
   "outputs": [],
   "source": [
    "json_file = open('model.json', 'r')\n",
    "loaded_model_json = json_file.read()\n",
    "json_file.close()\n",
    "loaded_model = model_from_json(loaded_model_json)\n",
    "# load weights into new model\n",
    "loaded_model.load_weights(\"model.h5\")\n",
    "print(\"Loaded model from disk\")\n",
    " \n",
    "# evaluate loaded model on test data\n",
    "#loaded_model.compile(loss='binary_crossentropy', optimizer='rmsprop', metrics=['accuracy'])\n",
    "pred = loaded_model.predict(txt)\n",
    "print( inv_label_dict[np.argmax(pred)] )"
   ]
  },
  {
   "cell_type": "code",
   "execution_count": null,
   "metadata": {},
   "outputs": [],
   "source": [
    "pickle.dump(tfidf_, open(\"tfidf.pickle\", \"wb\"))"
   ]
  },
  {
   "cell_type": "code",
   "execution_count": null,
   "metadata": {},
   "outputs": [],
   "source": [
    "temp_tfidf = pickle.load(open(\"tfidf.pickle\", 'rb'))\n",
    "print(txt)\n",
    "s = \"lakshay singhla is amazon boi\"\n",
    "s = RemovePunctuation(RemoveStopWords(stemming(s)))\n",
    "s = [s]\n",
    "s = temp_tfidf.transform(s).toarray()\n",
    "print(s)"
   ]
  },
  {
   "cell_type": "code",
   "execution_count": null,
   "metadata": {},
   "outputs": [],
   "source": [
    "pred = loaded_model.predict(s)\n",
    "print( inv_label_dict[np.argmax(pred)] )"
   ]
  },
  {
   "cell_type": "code",
   "execution_count": null,
   "metadata": {},
   "outputs": [],
   "source": []
  }
 ],
 "metadata": {
  "kernelspec": {
   "display_name": "Python 3",
   "language": "python",
   "name": "python3"
  },
  "language_info": {
   "codemirror_mode": {
    "name": "ipython",
    "version": 3
   },
   "file_extension": ".py",
   "mimetype": "text/x-python",
   "name": "python",
   "nbconvert_exporter": "python",
   "pygments_lexer": "ipython3",
   "version": "3.6.8"
  }
 },
 "nbformat": 4,
 "nbformat_minor": 2
}
